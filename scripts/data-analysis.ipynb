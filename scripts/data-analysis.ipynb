{
 "cells": [
  {
   "cell_type": "code",
   "execution_count": 54,
   "metadata": {},
   "outputs": [],
   "source": [
    "import pandas as pd\n",
    "import matplotlib.pyplot as plt\n",
    "import seaborn as sns\n",
    "import numpy as np\n",
    "from sklearn.preprocessing import LabelEncoder\n",
    "from sklearn.model_selection import train_test_split\n",
    "from sklearn.linear_model import LogisticRegression\n",
    "from sklearn.tree import DecisionTreeClassifier\n",
    "from sklearn.ensemble import RandomForestClassifier\n",
    "from xgboost import XGBClassifier\n",
    "from sklearn.metrics import accuracy_score, precision_score, recall_score, f1_score\n",
    "from imblearn.over_sampling import SMOTE\n",
    "import warnings\n",
    "\n",
    "warnings.filterwarnings(\"ignore\")"
   ]
  },
  {
   "cell_type": "code",
   "execution_count": 6,
   "metadata": {},
   "outputs": [
    {
     "data": {
      "text/html": [
       "<div>\n",
       "<style scoped>\n",
       "    .dataframe tbody tr th:only-of-type {\n",
       "        vertical-align: middle;\n",
       "    }\n",
       "\n",
       "    .dataframe tbody tr th {\n",
       "        vertical-align: top;\n",
       "    }\n",
       "\n",
       "    .dataframe thead th {\n",
       "        text-align: right;\n",
       "    }\n",
       "</style>\n",
       "<table border=\"1\" class=\"dataframe\">\n",
       "  <thead>\n",
       "    <tr style=\"text-align: right;\">\n",
       "      <th></th>\n",
       "      <th>transaction_id</th>\n",
       "      <th>card_number</th>\n",
       "      <th>card_holder</th>\n",
       "      <th>amount</th>\n",
       "      <th>currency</th>\n",
       "      <th>merchant</th>\n",
       "      <th>timestamp</th>\n",
       "    </tr>\n",
       "  </thead>\n",
       "  <tbody>\n",
       "    <tr>\n",
       "      <th>0</th>\n",
       "      <td>0f4762c1-0868-4a17-9512-84bed9124601</td>\n",
       "      <td>4779455360518333</td>\n",
       "      <td>Johnathan Flores</td>\n",
       "      <td>388.58</td>\n",
       "      <td>USD</td>\n",
       "      <td>Myers PLC</td>\n",
       "      <td>2023-02-03 09:36:18</td>\n",
       "    </tr>\n",
       "    <tr>\n",
       "      <th>1</th>\n",
       "      <td>661ce476-a37c-403b-8361-df3ecd05514e</td>\n",
       "      <td>4718472731457467</td>\n",
       "      <td>Dennis Hall</td>\n",
       "      <td>668.12</td>\n",
       "      <td>USD</td>\n",
       "      <td>Miller, Shaw and Sims</td>\n",
       "      <td>2023-03-05 11:58:35</td>\n",
       "    </tr>\n",
       "    <tr>\n",
       "      <th>2</th>\n",
       "      <td>a1c49d47-c713-4c57-909a-143b4e0c88ff</td>\n",
       "      <td>4475414498943845</td>\n",
       "      <td>Megan Smith</td>\n",
       "      <td>683.65</td>\n",
       "      <td>USD</td>\n",
       "      <td>Delacruz-Wood</td>\n",
       "      <td>2023-03-15 16:01:17</td>\n",
       "    </tr>\n",
       "    <tr>\n",
       "      <th>3</th>\n",
       "      <td>6570995d-1992-477b-8917-ad33aefe1822</td>\n",
       "      <td>4590202585399512</td>\n",
       "      <td>Mercedes Sherman</td>\n",
       "      <td>289.19</td>\n",
       "      <td>USD</td>\n",
       "      <td>Hines-Murphy</td>\n",
       "      <td>2023-01-03 06:14:31</td>\n",
       "    </tr>\n",
       "    <tr>\n",
       "      <th>4</th>\n",
       "      <td>8493c608-a409-499c-977f-5511937a48ee</td>\n",
       "      <td>4350533950555936</td>\n",
       "      <td>Thomas Delacruz</td>\n",
       "      <td>865.43</td>\n",
       "      <td>USD</td>\n",
       "      <td>Mckenzie LLC</td>\n",
       "      <td>2023-01-11 23:43:29</td>\n",
       "    </tr>\n",
       "  </tbody>\n",
       "</table>\n",
       "</div>"
      ],
      "text/plain": [
       "                         transaction_id       card_number       card_holder  \\\n",
       "0  0f4762c1-0868-4a17-9512-84bed9124601  4779455360518333  Johnathan Flores   \n",
       "1  661ce476-a37c-403b-8361-df3ecd05514e  4718472731457467       Dennis Hall   \n",
       "2  a1c49d47-c713-4c57-909a-143b4e0c88ff  4475414498943845       Megan Smith   \n",
       "3  6570995d-1992-477b-8917-ad33aefe1822  4590202585399512  Mercedes Sherman   \n",
       "4  8493c608-a409-499c-977f-5511937a48ee  4350533950555936   Thomas Delacruz   \n",
       "\n",
       "   amount currency               merchant            timestamp  \n",
       "0  388.58      USD              Myers PLC  2023-02-03 09:36:18  \n",
       "1  668.12      USD  Miller, Shaw and Sims  2023-03-05 11:58:35  \n",
       "2  683.65      USD          Delacruz-Wood  2023-03-15 16:01:17  \n",
       "3  289.19      USD           Hines-Murphy  2023-01-03 06:14:31  \n",
       "4  865.43      USD           Mckenzie LLC  2023-01-11 23:43:29  "
      ]
     },
     "execution_count": 6,
     "metadata": {},
     "output_type": "execute_result"
    }
   ],
   "source": [
    "df = pd.read_parquet(\"data/transactions.parquet\")\n",
    "df.head()"
   ]
  },
  {
   "attachments": {},
   "cell_type": "markdown",
   "metadata": {},
   "source": [
    "# 1. Exploratory Data Analysis"
   ]
  },
  {
   "cell_type": "code",
   "execution_count": 7,
   "metadata": {},
   "outputs": [
    {
     "data": {
      "text/html": [
       "<div>\n",
       "<style scoped>\n",
       "    .dataframe tbody tr th:only-of-type {\n",
       "        vertical-align: middle;\n",
       "    }\n",
       "\n",
       "    .dataframe tbody tr th {\n",
       "        vertical-align: top;\n",
       "    }\n",
       "\n",
       "    .dataframe thead th {\n",
       "        text-align: right;\n",
       "    }\n",
       "</style>\n",
       "<table border=\"1\" class=\"dataframe\">\n",
       "  <thead>\n",
       "    <tr style=\"text-align: right;\">\n",
       "      <th></th>\n",
       "      <th>amount</th>\n",
       "    </tr>\n",
       "  </thead>\n",
       "  <tbody>\n",
       "    <tr>\n",
       "      <th>count</th>\n",
       "      <td>1000.000000</td>\n",
       "    </tr>\n",
       "    <tr>\n",
       "      <th>mean</th>\n",
       "      <td>516.035000</td>\n",
       "    </tr>\n",
       "    <tr>\n",
       "      <th>std</th>\n",
       "      <td>291.410677</td>\n",
       "    </tr>\n",
       "    <tr>\n",
       "      <th>min</th>\n",
       "      <td>3.110000</td>\n",
       "    </tr>\n",
       "    <tr>\n",
       "      <th>25%</th>\n",
       "      <td>273.905000</td>\n",
       "    </tr>\n",
       "    <tr>\n",
       "      <th>50%</th>\n",
       "      <td>527.315000</td>\n",
       "    </tr>\n",
       "    <tr>\n",
       "      <th>75%</th>\n",
       "      <td>772.842500</td>\n",
       "    </tr>\n",
       "    <tr>\n",
       "      <th>max</th>\n",
       "      <td>999.750000</td>\n",
       "    </tr>\n",
       "  </tbody>\n",
       "</table>\n",
       "</div>"
      ],
      "text/plain": [
       "            amount\n",
       "count  1000.000000\n",
       "mean    516.035000\n",
       "std     291.410677\n",
       "min       3.110000\n",
       "25%     273.905000\n",
       "50%     527.315000\n",
       "75%     772.842500\n",
       "max     999.750000"
      ]
     },
     "execution_count": 7,
     "metadata": {},
     "output_type": "execute_result"
    }
   ],
   "source": [
    "df.describe()"
   ]
  },
  {
   "cell_type": "code",
   "execution_count": 8,
   "metadata": {},
   "outputs": [
    {
     "data": {
      "text/plain": [
       "transaction_id    0\n",
       "card_number       0\n",
       "card_holder       0\n",
       "amount            0\n",
       "currency          0\n",
       "merchant          0\n",
       "timestamp         0\n",
       "dtype: int64"
      ]
     },
     "execution_count": 8,
     "metadata": {},
     "output_type": "execute_result"
    }
   ],
   "source": [
    "df.isna().sum()"
   ]
  },
  {
   "cell_type": "code",
   "execution_count": 9,
   "metadata": {},
   "outputs": [
    {
     "data": {
      "image/png": "[encoded data removed]",
      "text/plain": [
       "<Figure size 1000x600 with 1 Axes>"
      ]
     },
     "metadata": {},
     "output_type": "display_data"
    }
   ],
   "source": [
    "# Distribution of Transaction Amounts\n",
    "plt.figure(figsize=(10, 6))\n",
    "sns.histplot(df['amount'], kde=True)\n",
    "plt.title(\"Distribution of Transaction Amounts\")\n",
    "plt.xlabel(\"Amount\")\n",
    "plt.ylabel(\"Frequency\")\n",
    "plt.show()"
   ]
  },
  {
   "cell_type": "code",
   "execution_count": 10,
   "metadata": {},
   "outputs": [
    {
     "data": {
      "image/png": "[encoded data removed]",
      "text/plain": [
       "<Figure size 1000x600 with 1 Axes>"
      ]
     },
     "metadata": {},
     "output_type": "display_data"
    }
   ],
   "source": [
    "# Boxplot of Transaction Amounts\n",
    "plt.figure(figsize=(10, 6))\n",
    "sns.boxplot(x=df['amount'])\n",
    "plt.title(\"Boxplot of Transaction Amounts\")\n",
    "plt.xlabel(\"Amount\")\n",
    "plt.show()"
   ]
  },
  {
   "attachments": {},
   "cell_type": "markdown",
   "metadata": {},
   "source": [
    "# 2. Feature Engineering"
   ]
  },
  {
   "cell_type": "code",
   "execution_count": 24,
   "metadata": {},
   "outputs": [],
   "source": [
    "# Set a probability for a transaction to be fraudulent (e.g., 0.01 for 1%)\n",
    "fraud_probability = 0.01\n",
    "\n",
    "# Generate random fraud labels based on the fraud probability\n",
    "fraud_labels = np.random.choice([0, 1], size=len(df), p=[1 - fraud_probability, fraud_probability])\n",
    "\n",
    "# Add the fraud labels to the dataset\n",
    "df['fraud_label'] = fraud_labels"
   ]
  },
  {
   "cell_type": "code",
   "execution_count": 27,
   "metadata": {},
   "outputs": [
    {
     "data": {
      "text/html": [
       "<div>\n",
       "<style scoped>\n",
       "    .dataframe tbody tr th:only-of-type {\n",
       "        vertical-align: middle;\n",
       "    }\n",
       "\n",
       "    .dataframe tbody tr th {\n",
       "        vertical-align: top;\n",
       "    }\n",
       "\n",
       "    .dataframe thead th {\n",
       "        text-align: right;\n",
       "    }\n",
       "</style>\n",
       "<table border=\"1\" class=\"dataframe\">\n",
       "  <thead>\n",
       "    <tr style=\"text-align: right;\">\n",
       "      <th></th>\n",
       "      <th>transaction_id</th>\n",
       "      <th>card_number</th>\n",
       "      <th>card_holder</th>\n",
       "      <th>amount</th>\n",
       "      <th>currency</th>\n",
       "      <th>merchant</th>\n",
       "      <th>timestamp</th>\n",
       "      <th>fraud_label</th>\n",
       "      <th>hour</th>\n",
       "      <th>day</th>\n",
       "      <th>day_of_week</th>\n",
       "    </tr>\n",
       "  </thead>\n",
       "  <tbody>\n",
       "    <tr>\n",
       "      <th>0</th>\n",
       "      <td>0f4762c1-0868-4a17-9512-84bed9124601</td>\n",
       "      <td>4779455360518333</td>\n",
       "      <td>Johnathan Flores</td>\n",
       "      <td>388.58</td>\n",
       "      <td>USD</td>\n",
       "      <td>Myers PLC</td>\n",
       "      <td>2023-02-03 09:36:18</td>\n",
       "      <td>0</td>\n",
       "      <td>9</td>\n",
       "      <td>3</td>\n",
       "      <td>4</td>\n",
       "    </tr>\n",
       "    <tr>\n",
       "      <th>1</th>\n",
       "      <td>661ce476-a37c-403b-8361-df3ecd05514e</td>\n",
       "      <td>4718472731457467</td>\n",
       "      <td>Dennis Hall</td>\n",
       "      <td>668.12</td>\n",
       "      <td>USD</td>\n",
       "      <td>Miller, Shaw and Sims</td>\n",
       "      <td>2023-03-05 11:58:35</td>\n",
       "      <td>0</td>\n",
       "      <td>11</td>\n",
       "      <td>5</td>\n",
       "      <td>6</td>\n",
       "    </tr>\n",
       "    <tr>\n",
       "      <th>2</th>\n",
       "      <td>a1c49d47-c713-4c57-909a-143b4e0c88ff</td>\n",
       "      <td>4475414498943845</td>\n",
       "      <td>Megan Smith</td>\n",
       "      <td>683.65</td>\n",
       "      <td>USD</td>\n",
       "      <td>Delacruz-Wood</td>\n",
       "      <td>2023-03-15 16:01:17</td>\n",
       "      <td>0</td>\n",
       "      <td>16</td>\n",
       "      <td>15</td>\n",
       "      <td>2</td>\n",
       "    </tr>\n",
       "    <tr>\n",
       "      <th>3</th>\n",
       "      <td>6570995d-1992-477b-8917-ad33aefe1822</td>\n",
       "      <td>4590202585399512</td>\n",
       "      <td>Mercedes Sherman</td>\n",
       "      <td>289.19</td>\n",
       "      <td>USD</td>\n",
       "      <td>Hines-Murphy</td>\n",
       "      <td>2023-01-03 06:14:31</td>\n",
       "      <td>0</td>\n",
       "      <td>6</td>\n",
       "      <td>3</td>\n",
       "      <td>1</td>\n",
       "    </tr>\n",
       "    <tr>\n",
       "      <th>4</th>\n",
       "      <td>8493c608-a409-499c-977f-5511937a48ee</td>\n",
       "      <td>4350533950555936</td>\n",
       "      <td>Thomas Delacruz</td>\n",
       "      <td>865.43</td>\n",
       "      <td>USD</td>\n",
       "      <td>Mckenzie LLC</td>\n",
       "      <td>2023-01-11 23:43:29</td>\n",
       "      <td>0</td>\n",
       "      <td>23</td>\n",
       "      <td>11</td>\n",
       "      <td>2</td>\n",
       "    </tr>\n",
       "  </tbody>\n",
       "</table>\n",
       "</div>"
      ],
      "text/plain": [
       "                         transaction_id       card_number       card_holder  \\\n",
       "0  0f4762c1-0868-4a17-9512-84bed9124601  4779455360518333  Johnathan Flores   \n",
       "1  661ce476-a37c-403b-8361-df3ecd05514e  4718472731457467       Dennis Hall   \n",
       "2  a1c49d47-c713-4c57-909a-143b4e0c88ff  4475414498943845       Megan Smith   \n",
       "3  6570995d-1992-477b-8917-ad33aefe1822  4590202585399512  Mercedes Sherman   \n",
       "4  8493c608-a409-499c-977f-5511937a48ee  4350533950555936   Thomas Delacruz   \n",
       "\n",
       "   amount currency               merchant           timestamp  fraud_label  \\\n",
       "0  388.58      USD              Myers PLC 2023-02-03 09:36:18            0   \n",
       "1  668.12      USD  Miller, Shaw and Sims 2023-03-05 11:58:35            0   \n",
       "2  683.65      USD          Delacruz-Wood 2023-03-15 16:01:17            0   \n",
       "3  289.19      USD           Hines-Murphy 2023-01-03 06:14:31            0   \n",
       "4  865.43      USD           Mckenzie LLC 2023-01-11 23:43:29            0   \n",
       "\n",
       "   hour  day  day_of_week  \n",
       "0     9    3            4  \n",
       "1    11    5            6  \n",
       "2    16   15            2  \n",
       "3     6    3            1  \n",
       "4    23   11            2  "
      ]
     },
     "execution_count": 27,
     "metadata": {},
     "output_type": "execute_result"
    }
   ],
   "source": [
    "# Convert the 'timestamp' column to a datetime object\n",
    "df['timestamp'] = pd.to_datetime(df['timestamp'])\n",
    "\n",
    "# Now you can extract hour, day, and day_of_week from the 'timestamp' column\n",
    "df['hour'] = df['timestamp'].dt.hour\n",
    "df['day'] = df['timestamp'].dt.day\n",
    "df['day_of_week'] = df['timestamp'].dt.dayofweek\n",
    "df.head()"
   ]
  },
  {
   "cell_type": "code",
   "execution_count": 30,
   "metadata": {},
   "outputs": [
    {
     "data": {
      "image/png": "[encoded data removed]",
      "text/plain": [
       "<Figure size 640x480 with 1 Axes>"
      ]
     },
     "metadata": {},
     "output_type": "display_data"
    }
   ],
   "source": [
    "# Plot the distribution of 'amount' for both fraud and non-fraud transactions\n",
    "sns.histplot(data=df, x='amount', hue='fraud_label', kde=True)\n",
    "plt.show()"
   ]
  },
  {
   "cell_type": "code",
   "execution_count": 31,
   "metadata": {},
   "outputs": [
    {
     "data": {
      "image/png": "[encoded data removed]",
      "text/plain": [
       "<Figure size 640x480 with 1 Axes>"
      ]
     },
     "metadata": {},
     "output_type": "display_data"
    }
   ],
   "source": [
    "# Plot the distribution of 'hour' for both fraud and non-fraud transactions\n",
    "sns.countplot(data=df, x='hour', hue='fraud_label')\n",
    "plt.show()"
   ]
  },
  {
   "cell_type": "code",
   "execution_count": 32,
   "metadata": {},
   "outputs": [
    {
     "data": {
      "image/png": "[encoded data removed]",
      "text/plain": [
       "<Figure size 640x480 with 1 Axes>"
      ]
     },
     "metadata": {},
     "output_type": "display_data"
    }
   ],
   "source": [
    "# Plot the distribution of 'day' for both fraud and non-fraud transactions\n",
    "sns.countplot(data=df, x='day', hue='fraud_label')\n",
    "plt.show()"
   ]
  },
  {
   "cell_type": "code",
   "execution_count": 33,
   "metadata": {},
   "outputs": [
    {
     "data": {
      "image/png": "[encoded data removed]",
      "text/plain": [
       "<Figure size 640x480 with 1 Axes>"
      ]
     },
     "metadata": {},
     "output_type": "display_data"
    }
   ],
   "source": [
    "# Plot the distribution of 'day_of_week' for both fraud and non-fraud transactions\n",
    "sns.countplot(data=df, x='day_of_week', hue='fraud_label')\n",
    "plt.show()"
   ]
  },
  {
   "cell_type": "code",
   "execution_count": 35,
   "metadata": {},
   "outputs": [
    {
     "data": {
      "text/html": [
       "<div>\n",
       "<style scoped>\n",
       "    .dataframe tbody tr th:only-of-type {\n",
       "        vertical-align: middle;\n",
       "    }\n",
       "\n",
       "    .dataframe tbody tr th {\n",
       "        vertical-align: top;\n",
       "    }\n",
       "\n",
       "    .dataframe thead th {\n",
       "        text-align: right;\n",
       "    }\n",
       "</style>\n",
       "<table border=\"1\" class=\"dataframe\">\n",
       "  <thead>\n",
       "    <tr style=\"text-align: right;\">\n",
       "      <th></th>\n",
       "      <th>transaction_id</th>\n",
       "      <th>card_number</th>\n",
       "      <th>card_holder</th>\n",
       "      <th>amount</th>\n",
       "      <th>currency</th>\n",
       "      <th>merchant</th>\n",
       "      <th>timestamp</th>\n",
       "      <th>fraud_label</th>\n",
       "      <th>hour</th>\n",
       "      <th>day</th>\n",
       "      <th>day_of_week</th>\n",
       "      <th>hour_sin</th>\n",
       "      <th>hour_cos</th>\n",
       "      <th>day_sin</th>\n",
       "      <th>day_cos</th>\n",
       "      <th>day_of_week_sin</th>\n",
       "      <th>day_of_week_cos</th>\n",
       "      <th>amount_bin</th>\n",
       "    </tr>\n",
       "  </thead>\n",
       "  <tbody>\n",
       "    <tr>\n",
       "      <th>0</th>\n",
       "      <td>0f4762c1-0868-4a17-9512-84bed9124601</td>\n",
       "      <td>4779455360518333</td>\n",
       "      <td>Johnathan Flores</td>\n",
       "      <td>388.58</td>\n",
       "      <td>USD</td>\n",
       "      <td>Myers PLC</td>\n",
       "      <td>2023-02-03 09:36:18</td>\n",
       "      <td>0</td>\n",
       "      <td>9</td>\n",
       "      <td>3</td>\n",
       "      <td>4</td>\n",
       "      <td>0.707107</td>\n",
       "      <td>-7.071068e-01</td>\n",
       "      <td>0.571268</td>\n",
       "      <td>0.820763</td>\n",
       "      <td>-0.433884</td>\n",
       "      <td>-0.900969</td>\n",
       "      <td>250-500</td>\n",
       "    </tr>\n",
       "    <tr>\n",
       "      <th>1</th>\n",
       "      <td>661ce476-a37c-403b-8361-df3ecd05514e</td>\n",
       "      <td>4718472731457467</td>\n",
       "      <td>Dennis Hall</td>\n",
       "      <td>668.12</td>\n",
       "      <td>USD</td>\n",
       "      <td>Miller, Shaw and Sims</td>\n",
       "      <td>2023-03-05 11:58:35</td>\n",
       "      <td>0</td>\n",
       "      <td>11</td>\n",
       "      <td>5</td>\n",
       "      <td>6</td>\n",
       "      <td>0.258819</td>\n",
       "      <td>-9.659258e-01</td>\n",
       "      <td>0.848644</td>\n",
       "      <td>0.528964</td>\n",
       "      <td>-0.781831</td>\n",
       "      <td>0.623490</td>\n",
       "      <td>500-750</td>\n",
       "    </tr>\n",
       "    <tr>\n",
       "      <th>2</th>\n",
       "      <td>a1c49d47-c713-4c57-909a-143b4e0c88ff</td>\n",
       "      <td>4475414498943845</td>\n",
       "      <td>Megan Smith</td>\n",
       "      <td>683.65</td>\n",
       "      <td>USD</td>\n",
       "      <td>Delacruz-Wood</td>\n",
       "      <td>2023-03-15 16:01:17</td>\n",
       "      <td>0</td>\n",
       "      <td>16</td>\n",
       "      <td>15</td>\n",
       "      <td>2</td>\n",
       "      <td>-0.866025</td>\n",
       "      <td>-5.000000e-01</td>\n",
       "      <td>0.101168</td>\n",
       "      <td>-0.994869</td>\n",
       "      <td>0.974928</td>\n",
       "      <td>-0.222521</td>\n",
       "      <td>500-750</td>\n",
       "    </tr>\n",
       "    <tr>\n",
       "      <th>3</th>\n",
       "      <td>6570995d-1992-477b-8917-ad33aefe1822</td>\n",
       "      <td>4590202585399512</td>\n",
       "      <td>Mercedes Sherman</td>\n",
       "      <td>289.19</td>\n",
       "      <td>USD</td>\n",
       "      <td>Hines-Murphy</td>\n",
       "      <td>2023-01-03 06:14:31</td>\n",
       "      <td>0</td>\n",
       "      <td>6</td>\n",
       "      <td>3</td>\n",
       "      <td>1</td>\n",
       "      <td>1.000000</td>\n",
       "      <td>6.123234e-17</td>\n",
       "      <td>0.571268</td>\n",
       "      <td>0.820763</td>\n",
       "      <td>0.781831</td>\n",
       "      <td>0.623490</td>\n",
       "      <td>250-500</td>\n",
       "    </tr>\n",
       "    <tr>\n",
       "      <th>4</th>\n",
       "      <td>8493c608-a409-499c-977f-5511937a48ee</td>\n",
       "      <td>4350533950555936</td>\n",
       "      <td>Thomas Delacruz</td>\n",
       "      <td>865.43</td>\n",
       "      <td>USD</td>\n",
       "      <td>Mckenzie LLC</td>\n",
       "      <td>2023-01-11 23:43:29</td>\n",
       "      <td>0</td>\n",
       "      <td>23</td>\n",
       "      <td>11</td>\n",
       "      <td>2</td>\n",
       "      <td>-0.258819</td>\n",
       "      <td>9.659258e-01</td>\n",
       "      <td>0.790776</td>\n",
       "      <td>-0.612106</td>\n",
       "      <td>0.974928</td>\n",
       "      <td>-0.222521</td>\n",
       "      <td>750-1000</td>\n",
       "    </tr>\n",
       "  </tbody>\n",
       "</table>\n",
       "</div>"
      ],
      "text/plain": [
       "                         transaction_id       card_number       card_holder  \\\n",
       "0  0f4762c1-0868-4a17-9512-84bed9124601  4779455360518333  Johnathan Flores   \n",
       "1  661ce476-a37c-403b-8361-df3ecd05514e  4718472731457467       Dennis Hall   \n",
       "2  a1c49d47-c713-4c57-909a-143b4e0c88ff  4475414498943845       Megan Smith   \n",
       "3  6570995d-1992-477b-8917-ad33aefe1822  4590202585399512  Mercedes Sherman   \n",
       "4  8493c608-a409-499c-977f-5511937a48ee  4350533950555936   Thomas Delacruz   \n",
       "\n",
       "   amount currency               merchant           timestamp  fraud_label  \\\n",
       "0  388.58      USD              Myers PLC 2023-02-03 09:36:18            0   \n",
       "1  668.12      USD  Miller, Shaw and Sims 2023-03-05 11:58:35            0   \n",
       "2  683.65      USD          Delacruz-Wood 2023-03-15 16:01:17            0   \n",
       "3  289.19      USD           Hines-Murphy 2023-01-03 06:14:31            0   \n",
       "4  865.43      USD           Mckenzie LLC 2023-01-11 23:43:29            0   \n",
       "\n",
       "   hour  day  day_of_week  hour_sin      hour_cos   day_sin   day_cos  \\\n",
       "0     9    3            4  0.707107 -7.071068e-01  0.571268  0.820763   \n",
       "1    11    5            6  0.258819 -9.659258e-01  0.848644  0.528964   \n",
       "2    16   15            2 -0.866025 -5.000000e-01  0.101168 -0.994869   \n",
       "3     6    3            1  1.000000  6.123234e-17  0.571268  0.820763   \n",
       "4    23   11            2 -0.258819  9.659258e-01  0.790776 -0.612106   \n",
       "\n",
       "   day_of_week_sin  day_of_week_cos amount_bin  \n",
       "0        -0.433884        -0.900969    250-500  \n",
       "1        -0.781831         0.623490    500-750  \n",
       "2         0.974928        -0.222521    500-750  \n",
       "3         0.781831         0.623490    250-500  \n",
       "4         0.974928        -0.222521   750-1000  "
      ]
     },
     "execution_count": 35,
     "metadata": {},
     "output_type": "execute_result"
    }
   ],
   "source": [
    "# Binning the 'amount' feature\n",
    "bins = [0, 100, 250, 500, 750, 1000]\n",
    "labels = ['0-100', '100-250', '250-500', '500-750', '750-1000']\n",
    "df['amount_bin'] = pd.cut(df['amount'], bins=bins, labels=labels)\n",
    "\n",
    "# Cyclical feature for 'hour'\n",
    "df['hour_sin'] = np.sin(2 * np.pi * df['hour'] / 24)\n",
    "df['hour_cos'] = np.cos(2 * np.pi * df['hour'] / 24)\n",
    "\n",
    "# Cyclical feature for 'day'\n",
    "df['day_sin'] = np.sin(2 * np.pi * df['day'] / 31)\n",
    "df['day_cos'] = np.cos(2 * np.pi * df['day'] / 31)\n",
    "\n",
    "# Cyclical feature for 'day_of_week'\n",
    "df['day_of_week_sin'] = np.sin(2 * np.pi * df['day_of_week'] / 7)\n",
    "df['day_of_week_cos'] = np.cos(2 * np.pi * df['day_of_week'] / 7)\n",
    "df.head()"
   ]
  },
  {
   "attachments": {},
   "cell_type": "markdown",
   "metadata": {},
   "source": [
    "# 3. Data Pre-processing"
   ]
  },
  {
   "cell_type": "code",
   "execution_count": 37,
   "metadata": {},
   "outputs": [],
   "source": [
    "# Encode categorical variables\n",
    "le = LabelEncoder()\n",
    "df['card_number'] = le.fit_transform(df['card_number'])\n",
    "df['card_holder'] = le.fit_transform(df['card_holder'])\n",
    "df['currency'] = le.fit_transform(df['currency'])\n",
    "df['merchant'] = le.fit_transform(df['merchant'])\n",
    "df['amount_bin'] = le.fit_transform(df['amount_bin'])\n",
    "\n",
    "# Split data into training and testing sets\n",
    "X = df.drop(['transaction_id', 'timestamp', 'fraud_label'], axis=1)\n",
    "y = df['fraud_label']\n",
    "X_train, X_test, y_train, y_test = train_test_split(X, y, test_size=0.3, random_state=42)"
   ]
  },
  {
   "attachments": {},
   "cell_type": "markdown",
   "metadata": {},
   "source": [
    "# 4. Model Selection"
   ]
  },
  {
   "cell_type": "code",
   "execution_count": 52,
   "metadata": {},
   "outputs": [],
   "source": [
    "# Oversampling: Generate more samples of the fraudulent transactions to balance the class distribution.\n",
    "smote = SMOTE(random_state=42)\n",
    "X_resampled, y_resampled = smote.fit_resample(X, y)\n",
    "X_train, X_test, y_train, y_test = train_test_split(X_resampled, y_resampled, test_size=0.3, random_state=42)"
   ]
  },
  {
   "cell_type": "code",
   "execution_count": 53,
   "metadata": {},
   "outputs": [
    {
     "name": "stdout",
     "output_type": "stream",
     "text": [
      "Logistic Regression:\n",
      "Accuracy: 0.7639123102866779\n",
      "Precision: 0.7491749174917491\n",
      "Recall: 0.7800687285223368\n",
      "F1-score: 0.7643097643097643\n",
      "\n",
      "\n",
      "Decision Tree:\n",
      "Accuracy: 0.9730185497470489\n",
      "Precision: 0.9661016949152542\n",
      "Recall: 0.979381443298969\n",
      "F1-score: 0.9726962457337883\n",
      "\n",
      "\n",
      "Random Forest:\n",
      "Accuracy: 0.9949409780775716\n",
      "Precision: 1.0\n",
      "Recall: 0.9896907216494846\n",
      "F1-score: 0.9948186528497409\n",
      "\n",
      "\n",
      "XGBoost:\n",
      "Accuracy: 0.9966273187183811\n",
      "Precision: 1.0\n",
      "Recall: 0.993127147766323\n",
      "F1-score: 0.996551724137931\n",
      "\n",
      "\n"
     ]
    }
   ],
   "source": [
    "# Define the classifiers\n",
    "classifiers = [\n",
    "    ('Logistic Regression', LogisticRegression(random_state=42)),\n",
    "    ('Decision Tree', DecisionTreeClassifier(random_state=42)),\n",
    "    ('Random Forest', RandomForestClassifier(random_state=42)),\n",
    "    ('XGBoost', XGBClassifier(random_state=42))\n",
    "]\n",
    "\n",
    "# Train and evaluate the classifiers\n",
    "for name, clf in classifiers:\n",
    "    clf.fit(X_train, y_train)\n",
    "    y_pred = clf.predict(X_test)\n",
    "    print(f\"{name}:\")\n",
    "    print(f\"Accuracy: {accuracy_score(y_test, y_pred)}\")\n",
    "    print(f\"Precision: {precision_score(y_test, y_pred)}\")\n",
    "    print(f\"Recall: {recall_score(y_test, y_pred)}\")\n",
    "    print(f\"F1-score: {f1_score(y_test, y_pred)}\")\n",
    "    print(\"\\n\")"
   ]
  },
  {
   "attachments": {},
   "cell_type": "markdown",
   "metadata": {},
   "source": [
    "# 5. Conclusion\n",
    "1. **Data Exploration and Analysis**: We explored the dataset to gain insights and identify patterns, trends, and relationships within the data. This step allowed us to better understand the data and identify useful features for our machine learning models.\n",
    "\n",
    "2. **Feature Engineering**: We extracted relevant features from the preprocessed data, such as hour, day, and day of the week, and transformed them to be used in machine learning models. We performed feature selection, dimensionality reduction, and feature scaling as needed.\n",
    "\n",
    "3. **Model Selection**: We trained, validated, and tested various machine learning models, including Logistic Regression, Decision Tree, Random Forest, and XGBoost, using the processed data. We evaluated the models using appropriate metrics such as accuracy, precision, recall, and F1-score.\n",
    "\n",
    "4. **Model Evaluation**: After initially observing poor model performance due to class imbalance, we applied oversampling techniques to balance the dataset. This significantly improved the performance of our models, especially the XGBoost model, which achieved the highest accuracy and F1-score among the four models."
   ]
  }
 ],
 "metadata": {
  "kernelspec": {
   "display_name": "Python 3",
   "language": "python",
   "name": "python3"
  },
  "language_info": {
   "codemirror_mode": {
    "name": "ipython",
    "version": 3
   },
   "file_extension": ".py",
   "mimetype": "text/x-python",
   "name": "python",
   "nbconvert_exporter": "python",
   "pygments_lexer": "ipython3",
   "version": "3.9.6"
  },
  "orig_nbformat": 4
 },
 "nbformat": 4,
 "nbformat_minor": 2
}
